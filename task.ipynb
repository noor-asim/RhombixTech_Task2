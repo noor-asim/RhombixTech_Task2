{
 "cells": [
  {
   "cell_type": "code",
   "execution_count": 1,
   "metadata": {},
   "outputs": [
    {
     "name": "stdout",
     "output_type": "stream",
     "text": [
      "Welcome to the Student Grade Tracker!\n",
      "\n",
      "Grades Summary:\n",
      "Eng: 68.0\n",
      "Math: 50.0\n",
      "Urdu: 65.0\n",
      "Physics: 60.0\n",
      "\n",
      "Average Grade: 60.75\n"
     ]
    }
   ],
   "source": [
    "def student_grade_tracker():\n",
    "    print(\"Welcome to the Student Grade Tracker!\")\n",
    "    grades = {}\n",
    "    \n",
    "    while True:\n",
    "        subject = input(\"Enter subject name (or type 'done' to end): \")\n",
    "        if subject.lower() == 'done':\n",
    "            break\n",
    "        try:\n",
    "            grade = float(input(f\"Enter grade for {subject}: \"))\n",
    "            if 0 <= grade <= 100:\n",
    "                grades[subject] = grade\n",
    "            else:\n",
    "                print(\"Please enter a grade between 0 and 100.\")\n",
    "        except ValueError:\n",
    "            print(\"Invalid input. Please enter a numeric grade.\")\n",
    "    \n",
    "    if grades:\n",
    "        print(\"\\nGrades Summary:\")\n",
    "        for subject, grade in grades.items():\n",
    "            print(f\"{subject}: {grade}\")\n",
    "        \n",
    "        average = sum(grades.values()) / len(grades)\n",
    "        print(f\"\\nAverage Grade: {average:.2f}\")\n",
    "    else:\n",
    "        print(\"No grades were entered.\")\n",
    "\n",
    "\n",
    "student_grade_tracker()\n"
   ]
  }
 ],
 "metadata": {
  "kernelspec": {
   "display_name": "Python 3",
   "language": "python",
   "name": "python3"
  },
  "language_info": {
   "codemirror_mode": {
    "name": "ipython",
    "version": 3
   },
   "file_extension": ".py",
   "mimetype": "text/x-python",
   "name": "python",
   "nbconvert_exporter": "python",
   "pygments_lexer": "ipython3",
   "version": "3.13.0"
  }
 },
 "nbformat": 4,
 "nbformat_minor": 2
}
